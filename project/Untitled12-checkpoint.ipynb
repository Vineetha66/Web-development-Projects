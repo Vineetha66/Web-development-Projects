{
 "cells": [
  {
   "cell_type": "code",
   "execution_count": 1,
   "id": "407c270c",
   "metadata": {},
   "outputs": [],
   "source": [
    "def yes_no():\n",
    "    choice = 'wrong'\n",
    "    acceptable_range=['Yes','No']\n",
    "    within_range=False\n",
    "    while choice==False or within_range==False:\n",
    "        choice = input( 'Are you ready to play: ')\n",
    "        \n",
    "        if choice==False:\n",
    "            print('It is not within tthe choice')\n",
    "        else:\n",
    "            if choice in acceptable_range:\n",
    "                within_range = True\n",
    "            else:\n",
    "                within_range = False\n",
    "                print('It is not in the choice')\n",
    "    return choice"
   ]
  },
  {
   "cell_type": "code",
   "execution_count": 2,
   "id": "c2bf20a4",
   "metadata": {},
   "outputs": [
    {
     "name": "stdout",
     "output_type": "stream",
     "text": [
      "Are you ready to play: Yes\n"
     ]
    },
    {
     "data": {
      "text/plain": [
       "'Yes'"
      ]
     },
     "execution_count": 2,
     "metadata": {},
     "output_type": "execute_result"
    }
   ],
   "source": [
    "yes_no()"
   ]
  },
  {
   "cell_type": "code",
   "execution_count": 3,
   "id": "73b00aa2",
   "metadata": {},
   "outputs": [],
   "source": [
    "from IPython.display import clear_output\n",
    "def display_board(board):\n",
    "    clear_output()\n",
    "    print(' | |')\n",
    "    print(board[7]+'|'+board[8]+'|'+board[9])\n",
    "    print(' | |')\n",
    "    print('------')\n",
    "    print(' | |')\n",
    "    print(board[4]+'|'+board[5]+'|'+board[6])\n",
    "    print(' | |')\n",
    "    print('------')\n",
    "    print(' | |')\n",
    "    print(board[1]+'|'+board[2]+'|'+board[3])\n",
    "    print(' | |')"
   ]
  },
  {
   "cell_type": "code",
   "execution_count": 4,
   "id": "f776cbda",
   "metadata": {},
   "outputs": [],
   "source": [
    "test_board=['#','X','O','X', 'O','X','O','X','O','X']"
   ]
  },
  {
   "cell_type": "code",
   "execution_count": 5,
   "id": "9079c6c9",
   "metadata": {},
   "outputs": [
    {
     "name": "stdout",
     "output_type": "stream",
     "text": [
      " | |\n",
      "X|O|X\n",
      " | |\n",
      "------\n",
      " | |\n",
      "O|X|O\n",
      " | |\n",
      "------\n",
      " | |\n",
      "X|O|X\n",
      " | |\n"
     ]
    }
   ],
   "source": [
    "display_board(test_board)"
   ]
  },
  {
   "cell_type": "code",
   "execution_count": 6,
   "id": "22d10730",
   "metadata": {},
   "outputs": [],
   "source": [
    "def player_input():\n",
    "    choice=''\n",
    "    player2=''\n",
    "    while choice!='X' and choice!='O':\n",
    "        choice = input('Player 1, choose X or O: ')\n",
    "        \n",
    "    player1 = choice\n",
    "    if choice == 'X':\n",
    "        return ('X','O')\n",
    "    else:\n",
    "        return ('O','X')\n",
    "    "
   ]
  },
  {
   "cell_type": "code",
   "execution_count": 7,
   "id": "70af0824",
   "metadata": {},
   "outputs": [
    {
     "name": "stdout",
     "output_type": "stream",
     "text": [
      "Player 1, choose X or O: \n",
      "Player 1, choose X or O: X\n"
     ]
    },
    {
     "data": {
      "text/plain": [
       "('X', 'O')"
      ]
     },
     "execution_count": 7,
     "metadata": {},
     "output_type": "execute_result"
    }
   ],
   "source": [
    "player_input()"
   ]
  },
  {
   "cell_type": "code",
   "execution_count": 8,
   "id": "32a1f234",
   "metadata": {},
   "outputs": [],
   "source": [
    "def place_choice(board,choice,position):\n",
    "    board[position] = choice"
   ]
  },
  {
   "cell_type": "code",
   "execution_count": 9,
   "id": "c67baa64",
   "metadata": {},
   "outputs": [],
   "source": [
    "test_board=['#','X','O','X','O','X','O','X','O','X']"
   ]
  },
  {
   "cell_type": "code",
   "execution_count": 10,
   "id": "23a2dc64",
   "metadata": {
    "scrolled": true
   },
   "outputs": [
    {
     "name": "stdout",
     "output_type": "stream",
     "text": [
      " | |\n",
      "X|$|X\n",
      " | |\n",
      "------\n",
      " | |\n",
      "O|X|O\n",
      " | |\n",
      "------\n",
      " | |\n",
      "X|O|X\n",
      " | |\n"
     ]
    }
   ],
   "source": [
    "place_choice(test_board,'$',8)\n",
    "display_board(test_board)"
   ]
  },
  {
   "cell_type": "code",
   "execution_count": 11,
   "id": "ac9d6bd7",
   "metadata": {},
   "outputs": [],
   "source": [
    "def win_check(board,choice):\n",
    "    \n",
    "    return ((board[7] == choice and board[8] == choice and board[9] == choice) or\n",
    "           (board[4] == choice and board[5] == choice and board[6] == choice) or\n",
    "           (board[1] == choice and board[2] == choice and board[3] == choice) or\n",
    "           (board[7] == choice and board[4] == choice and board[1] == choice) or\n",
    "           (board[8] == choice and board[5] == choice and board[2] == choice) or\n",
    "           (board[9] == choice and board[6] == choice and board[3] == choice) or\n",
    "           (board[7] == choice and board[5] == choice and board[3] == choice) or\n",
    "           (board[9] == choice and board[5] == choice and board[1] == choice))\n",
    "    "
   ]
  },
  {
   "cell_type": "code",
   "execution_count": 12,
   "id": "00c9d7d9",
   "metadata": {},
   "outputs": [
    {
     "data": {
      "text/plain": [
       "True"
      ]
     },
     "execution_count": 12,
     "metadata": {},
     "output_type": "execute_result"
    }
   ],
   "source": [
    "win_check(test_board,'X')"
   ]
  },
  {
   "cell_type": "code",
   "execution_count": 13,
   "id": "207e2b44",
   "metadata": {},
   "outputs": [],
   "source": [
    "import random\n",
    "def choose_first():\n",
    "    flip=random.randint(0,1)\n",
    "    \n",
    "    if flip == 0:\n",
    "        return 'Player 1'\n",
    "    else:\n",
    "        return 'Player 2'"
   ]
  },
  {
   "cell_type": "code",
   "execution_count": 14,
   "id": "75e67c3e",
   "metadata": {},
   "outputs": [],
   "source": [
    "def space_checker(board,position):\n",
    "    return board[position] == ' '"
   ]
  },
  {
   "cell_type": "code",
   "execution_count": 15,
   "id": "8ec2e2b6",
   "metadata": {},
   "outputs": [],
   "source": [
    "def player_position(board):\n",
    "    position = 0\n",
    "    while position not in [1,2,3,4,5,6,7,8,9] or not space_checker(board, position): \n",
    "        position = int(input('Enter the position from 1-9: '))\n",
    "    return position\n",
    "        "
   ]
  },
  {
   "cell_type": "code",
   "execution_count": 16,
   "id": "49d7cf23",
   "metadata": {},
   "outputs": [],
   "source": [
    "def full_board_check(board):\n",
    "    for i in range(1,10):\n",
    "        if space_checker(board,i):\n",
    "            return False\n",
    "    return True"
   ]
  },
  {
   "cell_type": "code",
   "execution_count": 17,
   "id": "000c4410",
   "metadata": {},
   "outputs": [],
   "source": [
    "def replay():\n",
    "    choice = 'wrong'\n",
    "    acceptable_range=['Yes','No']\n",
    "    within_range=False\n",
    "    while choice==False or within_range==False:\n",
    "        choice = input( 'Do you want to play again? ')\n",
    "        \n",
    "        if choice==False:\n",
    "            print('It is not within tthe choice')\n",
    "        else:\n",
    "            if choice in acceptable_range:\n",
    "                within_range = True\n",
    "            else:\n",
    "                within_range = False\n",
    "                print('It is not in the choice')\n",
    "    return choice"
   ]
  },
  {
   "cell_type": "code",
   "execution_count": 18,
   "id": "fd089672",
   "metadata": {},
   "outputs": [
    {
     "name": "stdout",
     "output_type": "stream",
     "text": [
      "Do you want to play again? No\n"
     ]
    },
    {
     "data": {
      "text/plain": [
       "'No'"
      ]
     },
     "execution_count": 18,
     "metadata": {},
     "output_type": "execute_result"
    }
   ],
   "source": [
    "replay()"
   ]
  },
  {
   "cell_type": "code",
   "execution_count": null,
   "id": "fe1bf142",
   "metadata": {},
   "outputs": [
    {
     "name": "stdout",
     "output_type": "stream",
     "text": [
      " | |\n",
      "O| |X\n",
      " | |\n",
      "------\n",
      " | |\n",
      "O|X| \n",
      " | |\n",
      "------\n",
      " | |\n",
      "O|X|O\n",
      " | |\n",
      "Player2 has won!\n"
     ]
    }
   ],
   "source": [
    "print('Welcome to Tic Tac Toe')\n",
    "\n",
    "while True:\n",
    "    the_board = [' ']*10\n",
    "    player1_choice,player2_choice = player_input()\n",
    "    \n",
    "    turn = choose_first()\n",
    "    print(turn + 'will go first')\n",
    "    \n",
    "    game_on=yes_no()\n",
    "    \n",
    "    if game_on == 'Yes':\n",
    "        game_on = True\n",
    "    else:\n",
    "        game_on = False\n",
    "    \n",
    "    while game_on:\n",
    "        \n",
    "        if turn =='Player 1':\n",
    "            display_board(the_board)\n",
    "            position = player_position(the_board)\n",
    "            place_choice(the_board,player1_choice,position)\n",
    "            \n",
    "            if win_check(the_board,player1_choice):\n",
    "                display_board(the_board)\n",
    "                print('Player1 has won!')\n",
    "                game_on = False\n",
    "            else:\n",
    "                if full_board_check(the_board):\n",
    "                    display_board(the_board)\n",
    "                    print('Game is Tie!')\n",
    "                    game_on = False\n",
    "                    break\n",
    "                else:\n",
    "                    turn = 'Player 2'           \n",
    "    \n",
    "        else:\n",
    "            display_board(the_board)\n",
    "            position = player_position(the_board)\n",
    "            place_choice(the_board,player2_choice,position)\n",
    "            \n",
    "            if win_check(the_board,player2_choice):\n",
    "                display_board(the_board)\n",
    "                print('Player2 has won!')\n",
    "                game_on = False\n",
    "            else:\n",
    "                if full_board_check(the_board):\n",
    "                    display_board(the_board)\n",
    "                    print('Game is Tie!')\n",
    "                    game_on = False\n",
    "                    break\n",
    "                else:\n",
    "                    turn = 'Player 1'           \n",
    "    \n",
    "            \n",
    "    if not replay():\n",
    "        break\n",
    "    "
   ]
  },
  {
   "cell_type": "code",
   "execution_count": 9,
   "id": "2930bd5f",
   "metadata": {},
   "outputs": [],
   "source": [
    "def display_board(board):\n",
    "    print(' | |')\n",
    "    print(board[7]+'|'+board[8]+'|'+board[9])\n",
    "    print(' | |')\n",
    "    print('-------')\n",
    "    print(' | |')\n",
    "    print(board[4]+'|'+board[5]+'|'+board[6])\n",
    "    print(' | |')\n",
    "    print('-------')\n",
    "    print(' | |')\n",
    "    print(board[1]+'|'+board[2]+'|'+board[3])\n",
    "    print(' | |')"
   ]
  },
  {
   "cell_type": "code",
   "execution_count": 10,
   "id": "5ae8cc8f",
   "metadata": {},
   "outputs": [],
   "source": [
    "the_board = ['#','X','O','X','O','X','O','X','O','X']"
   ]
  },
  {
   "cell_type": "code",
   "execution_count": 11,
   "id": "6dcfd035",
   "metadata": {},
   "outputs": [
    {
     "name": "stdout",
     "output_type": "stream",
     "text": [
      " | |\n",
      "X|O|X\n",
      " | |\n",
      "-------\n",
      " | |\n",
      "O|X|O\n",
      " | |\n",
      "-------\n",
      " | |\n",
      "X|O|X\n",
      " | |\n"
     ]
    }
   ],
   "source": [
    "display_board(the_board)"
   ]
  },
  {
   "cell_type": "code",
   "execution_count": 12,
   "id": "73e54770",
   "metadata": {},
   "outputs": [],
   "source": [
    "def player_input():\n",
    "    choice = 'wrong'\n",
    "    while choice not in ['X','O']:\n",
    "        choice = input('Player 1, Choose between X and O: ')\n",
    "\n",
    "    if choice == 'X':\n",
    "        return ('X','O')\n",
    "    else:\n",
    "        return ('O','X') "
   ]
  },
  {
   "cell_type": "code",
   "execution_count": 13,
   "id": "f74784c1",
   "metadata": {},
   "outputs": [
    {
     "name": "stdout",
     "output_type": "stream",
     "text": [
      "Player 1, Choose between X and O: \n",
      "Player 1, Choose between X and O: X\n"
     ]
    }
   ],
   "source": [
    "player1_choice,player2_choice = player_input()"
   ]
  },
  {
   "cell_type": "code",
   "execution_count": 14,
   "id": "551ca739",
   "metadata": {},
   "outputs": [
    {
     "data": {
      "text/plain": [
       "'O'"
      ]
     },
     "execution_count": 14,
     "metadata": {},
     "output_type": "execute_result"
    }
   ],
   "source": [
    "player2_choice"
   ]
  },
  {
   "cell_type": "code",
   "execution_count": 15,
   "id": "d56c9a3e",
   "metadata": {},
   "outputs": [],
   "source": [
    "import random\n",
    "def user_turn():\n",
    "    flip = random.randint(0,1)\n",
    "    \n",
    "    if flip == 0:\n",
    "        return 'Player 1'\n",
    "    else:\n",
    "        return 'Player 2'"
   ]
  },
  {
   "cell_type": "code",
   "execution_count": 16,
   "id": "7da8678e",
   "metadata": {},
   "outputs": [],
   "source": [
    "def yes_no():\n",
    "    choice = 'wrong'\n",
    "    acceptable_range = ['Yes','No']\n",
    "    within_range = False\n",
    "    \n",
    "    while choice == False or within_range == False:\n",
    "        choice =  input('Still you want to replace? ')\n",
    "        \n",
    "        if choice == False:\n",
    "            print('It is not correct choice')\n",
    "            \n",
    "        else:\n",
    "            if choice in acceptable_range:\n",
    "                within_range = True\n",
    "            else:\n",
    "                within_range = False\n",
    "                print('It is not within the choice')\n",
    "                \n",
    "    return choice\n",
    "    "
   ]
  },
  {
   "cell_type": "code",
   "execution_count": 17,
   "id": "129de205",
   "metadata": {},
   "outputs": [
    {
     "name": "stdout",
     "output_type": "stream",
     "text": [
      "Still you want to replace? Yes\n"
     ]
    },
    {
     "data": {
      "text/plain": [
       "'Yes'"
      ]
     },
     "execution_count": 17,
     "metadata": {},
     "output_type": "execute_result"
    }
   ],
   "source": [
    "yes_no()"
   ]
  },
  {
   "cell_type": "code",
   "execution_count": 18,
   "id": "3ff512d4",
   "metadata": {},
   "outputs": [],
   "source": [
    "def place_choice(board,choice,position):\n",
    "    board[position] = choice\n",
    "    "
   ]
  },
  {
   "cell_type": "code",
   "execution_count": 20,
   "id": "59351dab",
   "metadata": {},
   "outputs": [
    {
     "name": "stdout",
     "output_type": "stream",
     "text": [
      " | |\n",
      "X|$|X\n",
      " | |\n",
      "-------\n",
      " | |\n",
      "O|X|O\n",
      " | |\n",
      "-------\n",
      " | |\n",
      "X|O|X\n",
      " | |\n"
     ]
    }
   ],
   "source": [
    "place_choice(the_board,'$',8)\n",
    "display_board(the_board)"
   ]
  },
  {
   "cell_type": "code",
   "execution_count": 22,
   "id": "1cb26f19",
   "metadata": {},
   "outputs": [],
   "source": [
    "def win_check(board,choice):\n",
    "    return ((board[7] == choice and board[8] == choice and board[9] == choice) or\n",
    "            (board[4] == choice and board[5] == choice and board[6] == choice) or\n",
    "            (board[1] == choice and board[2] == choice and board[3] == choice) or\n",
    "            (board[7] == choice and board[4] == choice and board[1] == choice) or\n",
    "            (board[8] == choice and board[5] == choice and board[2] == choice) or\n",
    "            (board[9] == choice and board[6] == choice and board[3] == choice) or\n",
    "            (board[7] == choice and board[5] == choice and board[3] == choice) or\n",
    "            (board[9] == choice and board[5] == choice and board[1] == choice)) \n",
    "            "
   ]
  },
  {
   "cell_type": "code",
   "execution_count": 26,
   "id": "443737e7",
   "metadata": {},
   "outputs": [
    {
     "name": "stdout",
     "output_type": "stream",
     "text": [
      " | |\n",
      "X|$|X\n",
      " | |\n",
      "-------\n",
      " | |\n",
      "O|X|O\n",
      " | |\n",
      "-------\n",
      " | |\n",
      "X|O|X\n",
      " | |\n"
     ]
    },
    {
     "data": {
      "text/plain": [
       "True"
      ]
     },
     "execution_count": 26,
     "metadata": {},
     "output_type": "execute_result"
    }
   ],
   "source": [
    "display_board(the_board)\n",
    "win_check(the_board,player1_choice)"
   ]
  },
  {
   "cell_type": "code",
   "execution_count": null,
   "id": "4e594045",
   "metadata": {},
   "outputs": [],
   "source": []
  },
  {
   "cell_type": "code",
   "execution_count": 33,
   "id": "7f476d4c",
   "metadata": {},
   "outputs": [],
   "source": [
    "def position_choice():\n",
    "    position=0\n",
    "    while position not in [1,2,3,4,5,6,7,8,9]:\n",
    "        position = int(input('Enter tha position: '))\n",
    "    return position"
   ]
  },
  {
   "cell_type": "code",
   "execution_count": 35,
   "id": "439d4fd3",
   "metadata": {},
   "outputs": [
    {
     "name": "stdout",
     "output_type": "stream",
     "text": [
      "Enter tha position: 8\n"
     ]
    }
   ],
   "source": [
    "position = position_choice()"
   ]
  },
  {
   "cell_type": "code",
   "execution_count": null,
   "id": "66cda7e6",
   "metadata": {},
   "outputs": [],
   "source": []
  },
  {
   "cell_type": "code",
   "execution_count": null,
   "id": "2ca15bdd",
   "metadata": {},
   "outputs": [],
   "source": []
  },
  {
   "cell_type": "code",
   "execution_count": null,
   "id": "382eacb5",
   "metadata": {},
   "outputs": [],
   "source": []
  },
  {
   "cell_type": "code",
   "execution_count": null,
   "id": "49e74bf3",
   "metadata": {},
   "outputs": [],
   "source": []
  },
  {
   "cell_type": "code",
   "execution_count": null,
   "id": "dbed0e26",
   "metadata": {},
   "outputs": [],
   "source": []
  },
  {
   "cell_type": "code",
   "execution_count": null,
   "id": "23a08ced",
   "metadata": {},
   "outputs": [],
   "source": []
  },
  {
   "cell_type": "code",
   "execution_count": null,
   "id": "8101be86",
   "metadata": {},
   "outputs": [],
   "source": [
    "print('Welcome to Tic Tac Toe')\n",
    "while True:\n",
    "    the_board = [' ']*3\n",
    "    player1_choice,player2_choice = player_input()\n",
    "    turn = user_turn()\n",
    "    print(turn + 'will go first')\n",
    "    \n",
    "    game_on = yes_no()\n",
    "    \n",
    "    if game_on == 'Yes':\n",
    "        game_on = True\n",
    "    else:\n",
    "        game_on = False\n",
    "        \n",
    "    while game_on == True:\n",
    "        \n",
    "        if turn == 'Player 1':\n",
    "            display_board(the_board)\n",
    "            player1_choice,player2_choice = player_input()\n",
    "            position = position_choice()\n",
    "            place_choice(the_board,player1_choice,position)\n",
    "            \n",
    "            if win_check(the_board,player1_choice):\n",
    "                display_board(the_board)\n",
    "                print('Congratulations! You won the game')\n",
    "                game_om == False\n",
    "                break\n",
    "            else:\n",
    "                \n",
    "    \n",
    "    "
   ]
  }
 ],
 "metadata": {
  "kernelspec": {
   "display_name": "Python 3 (ipykernel)",
   "language": "python",
   "name": "python3"
  },
  "language_info": {
   "codemirror_mode": {
    "name": "ipython",
    "version": 3
   },
   "file_extension": ".py",
   "mimetype": "text/x-python",
   "name": "python",
   "nbconvert_exporter": "python",
   "pygments_lexer": "ipython3",
   "version": "3.10.9"
  }
 },
 "nbformat": 4,
 "nbformat_minor": 5
}
